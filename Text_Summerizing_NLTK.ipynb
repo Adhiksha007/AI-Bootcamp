{
  "nbformat": 4,
  "nbformat_minor": 0,
  "metadata": {
    "colab": {
      "provenance": [],
      "authorship_tag": "ABX9TyM7ZX6DlVLSVCVO4PCTMlps",
      "include_colab_link": true
    },
    "kernelspec": {
      "name": "python3",
      "display_name": "Python 3"
    },
    "language_info": {
      "name": "python"
    }
  },
  "cells": [
    {
      "cell_type": "markdown",
      "metadata": {
        "id": "view-in-github",
        "colab_type": "text"
      },
      "source": [
        "<a href=\"https://colab.research.google.com/github/Adhiksha007/AI-Bootcamp/blob/main/Text_Summerizing_NLTK.ipynb\" target=\"_parent\"><img src=\"https://colab.research.google.com/assets/colab-badge.svg\" alt=\"Open In Colab\"/></a>"
      ]
    },
    {
      "cell_type": "code",
      "execution_count": 1,
      "metadata": {
        "id": "fDgPGPTW550D"
      },
      "outputs": [],
      "source": [
        "import nltk\n",
        "from nltk.corpus import stopwords\n",
        "from nltk.tokenize import word_tokenize, sent_tokenize"
      ]
    },
    {
      "cell_type": "code",
      "source": [
        "nltk.download('stopwords')\n",
        "nltk.download('punkt')"
      ],
      "metadata": {
        "colab": {
          "base_uri": "https://localhost:8080/"
        },
        "id": "MJmkpUZf6OPq",
        "outputId": "0866048c-4eb7-40ee-fcd6-b751b378c8a1"
      },
      "execution_count": 2,
      "outputs": [
        {
          "output_type": "stream",
          "name": "stderr",
          "text": [
            "[nltk_data] Downloading package stopwords to /root/nltk_data...\n",
            "[nltk_data]   Unzipping corpora/stopwords.zip.\n",
            "[nltk_data] Downloading package punkt to /root/nltk_data...\n",
            "[nltk_data]   Unzipping tokenizers/punkt.zip.\n"
          ]
        },
        {
          "output_type": "execute_result",
          "data": {
            "text/plain": [
              "True"
            ]
          },
          "metadata": {},
          "execution_count": 2
        }
      ]
    },
    {
      "cell_type": "code",
      "source": [
        "nltk.download('punkt_tab')"
      ],
      "metadata": {
        "colab": {
          "base_uri": "https://localhost:8080/"
        },
        "id": "Kclm5AeB84Th",
        "outputId": "5cd4e037-08f7-4d47-e323-4814f888bace"
      },
      "execution_count": 6,
      "outputs": [
        {
          "output_type": "stream",
          "name": "stderr",
          "text": [
            "[nltk_data] Downloading package punkt_tab to /root/nltk_data...\n",
            "[nltk_data]   Unzipping tokenizers/punkt_tab.zip.\n"
          ]
        },
        {
          "output_type": "execute_result",
          "data": {
            "text/plain": [
              "True"
            ]
          },
          "metadata": {},
          "execution_count": 6
        }
      ]
    },
    {
      "cell_type": "code",
      "source": [
        "text = \"\"\"Artificial Neural Networks (ANNs) are a type of machine learning algorithm\n",
        "          inspired by the structure of the human brain. They consist of interconnected\n",
        "          nodes, called \"neurons,\" that process information and learn from data. ANNs\n",
        "          are used in various applications like image recognition, natural language\n",
        "          processing, and predictive modeling\n",
        "       \"\"\""
      ],
      "metadata": {
        "id": "asXl-LXy6Tui"
      },
      "execution_count": 7,
      "outputs": []
    },
    {
      "cell_type": "code",
      "source": [
        "def summerize_text(text, num_sentences=2):\n",
        "    stop_words = set(stopwords.words('english'))\n",
        "    sentences = sent_tokenize(text)\n",
        "    words = word_tokenize(text.lower())\n",
        "    word_frequencies = {}\n",
        "\n",
        "    for word in words:\n",
        "      if word.isalpha() and word not in stop_words:\n",
        "        if word not in word_frequencies:\n",
        "          word_frequencies[word] = word_frequencies.get(word, 0) + 1\n",
        "    sentence_scores = {}\n",
        "    for sentence in sentences:\n",
        "      for word in word_tokenize(sentence.lower()):\n",
        "        if word in word_frequencies:\n",
        "          if sentence not in sentence_scores:\n",
        "            sentence_scores[sentence] = word_frequencies[word]\n",
        "\n",
        "    summery_sentences = sorted(sentence_scores, key=sentence_scores.get, reverse=True)[:num_sentences]\n",
        "    summery = ' '.join(summery_sentences)\n",
        "    return summery"
      ],
      "metadata": {
        "id": "OjtSZOWs600a"
      },
      "execution_count": 10,
      "outputs": []
    },
    {
      "cell_type": "code",
      "source": [
        "summery = summerize_text(text)\n",
        "print(\"Original text:\")\n",
        "print(text)\n",
        "print(\"\\nSummery:\")\n",
        "print(summery)"
      ],
      "metadata": {
        "colab": {
          "base_uri": "https://localhost:8080/"
        },
        "id": "fkj6cj-H8mU5",
        "outputId": "2da62082-fa2b-40ff-8e61-0e40ea3b3f74"
      },
      "execution_count": 11,
      "outputs": [
        {
          "output_type": "stream",
          "name": "stdout",
          "text": [
            "Original text:\n",
            "Artificial Neural Networks (ANNs) are a type of machine learning algorithm \n",
            "          inspired by the structure of the human brain. They consist of interconnected \n",
            "          nodes, called \"neurons,\" that process information and learn from data. ANNs \n",
            "          are used in various applications like image recognition, natural language\n",
            "          processing, and predictive modeling\n",
            "       \n",
            "\n",
            "Summery:\n",
            "Artificial Neural Networks (ANNs) are a type of machine learning algorithm \n",
            "          inspired by the structure of the human brain. They consist of interconnected \n",
            "          nodes, called \"neurons,\" that process information and learn from data.\n"
          ]
        }
      ]
    },
    {
      "cell_type": "code",
      "source": [],
      "metadata": {
        "id": "zIoIgFtq8wFQ"
      },
      "execution_count": null,
      "outputs": []
    }
  ]
}