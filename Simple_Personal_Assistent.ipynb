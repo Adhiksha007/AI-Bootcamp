{
  "nbformat": 4,
  "nbformat_minor": 0,
  "metadata": {
    "colab": {
      "provenance": [],
      "authorship_tag": "ABX9TyPYPW5iJDRr/PWm67ROr0L1",
      "include_colab_link": true
    },
    "kernelspec": {
      "name": "python3",
      "display_name": "Python 3"
    },
    "language_info": {
      "name": "python"
    }
  },
  "cells": [
    {
      "cell_type": "markdown",
      "metadata": {
        "id": "view-in-github",
        "colab_type": "text"
      },
      "source": [
        "<a href=\"https://colab.research.google.com/github/Adhiksha007/AI-Bootcamp/blob/main/Simple_Personal_Assistent.ipynb\" target=\"_parent\"><img src=\"https://colab.research.google.com/assets/colab-badge.svg\" alt=\"Open In Colab\"/></a>"
      ]
    },
    {
      "cell_type": "code",
      "execution_count": 5,
      "metadata": {
        "id": "7_XaZWuYhurr"
      },
      "outputs": [],
      "source": [
        "import speech_recognition as sr\n",
        "import pyttsx3\n",
        "import datetime\n",
        "import os\n",
        "import webbrowser"
      ]
    },
    {
      "cell_type": "code",
      "source": [
        "# Start the speech engine\n",
        "engine = pyttsx3.init()"
      ],
      "metadata": {
        "id": "GOxbCbsuh2gJ"
      },
      "execution_count": 10,
      "outputs": []
    },
    {
      "cell_type": "code",
      "source": [
        "def speak(text):\n",
        "  engine.say(text)\n",
        "  engine.runAndWait()"
      ],
      "metadata": {
        "id": "WGxkZfS0iy5M"
      },
      "execution_count": 11,
      "outputs": []
    },
    {
      "cell_type": "code",
      "source": [
        "def take_command():\n",
        "  recognizer = sr.Recognizer()\n",
        "  with sr.Microphone() as source:\n",
        "    print(\"Listening...\")\n",
        "    recognizer.adjust_for_ambient_noise(source)\n",
        "    audio = recognizer.listen(source)\n",
        "  try:\n",
        "    print(\"Reongizing...\")\n",
        "    query = recognizer.recognize_google(audio, language='en-in')\n",
        "    print(f\"User said: {query}\\n\")\n",
        "  except sr.UnknownValueError:\n",
        "    print(\"Sorry, I couldn't understand what you said.\")\n",
        "    return None\n",
        "  except sr.RequestError:\n",
        "    print(\"Sorry, there was an error with the speech recognition service.\")\n",
        "    return None\n",
        "  return query.lower()\n"
      ],
      "metadata": {
        "id": "bGexs5nmjeEx"
      },
      "execution_count": 12,
      "outputs": []
    },
    {
      "cell_type": "code",
      "source": [
        "def response(command):\n",
        "  if \"hello\" in command or \"hi\" in command:\n",
        "    speak(\"Hello, How can I assist you?\")\n",
        "  elif \"time\" in command:\n",
        "    current_time = datetime.datetime.now().strftime(\"%H:%M:%S\")\n",
        "    speak(f\"The current time is {current_time}\")\n",
        "  elif \"date\" in command:\n",
        "    current_date = datetime.datetime.now().strftime(\"%d/%m/%Y\")\n",
        "    speak(f\"The current date is {current_date}\")\n",
        "  elif \"search\" in command:\n",
        "    speak(\"What would you like to search?\")\n",
        "    search_query = take_command()\n",
        "    if search_query:\n",
        "      speak(f\"Searching for {search_query} on Google...\")\n",
        "      webbrowser.open(f\"https://www.google.com/search?q={search_query}\")\n",
        "  elif \"open\" in command:\n",
        "    if 'safari' in command:\n",
        "      speak(\"Opening Safari\")\n",
        "      os.system(\"open -a Safari\")\n",
        "    if 'calculator' in command:\n",
        "      speak(\"Opening Calculator\")\n",
        "      os.system(\"open -a Calculator\")\n",
        "  elif 'bye' in command or 'exit' in command or 'quit' in command:\n",
        "    speak(\"Have a nice day!!\")\n",
        "    exit()\n",
        "  else:\n",
        "    speak(\"I' sorry, I don't know the command\")"
      ],
      "metadata": {
        "id": "nO8-9KTAkRP_"
      },
      "execution_count": 13,
      "outputs": []
    },
    {
      "cell_type": "code",
      "source": [
        "def run_assistant():\n",
        "  speak(\"Hello!!, How can I assist you today?\")\n",
        "  while True:\n",
        "    command = take_command()\n",
        "    if command:\n",
        "      response(command)"
      ],
      "metadata": {
        "id": "YpxeumEzmfKI"
      },
      "execution_count": 14,
      "outputs": []
    },
    {
      "cell_type": "code",
      "source": [
        "run_assistant()"
      ],
      "metadata": {
        "id": "w9rjFuvumw1z"
      },
      "execution_count": null,
      "outputs": []
    },
    {
      "cell_type": "code",
      "source": [],
      "metadata": {
        "id": "gs8BRX99o69g"
      },
      "execution_count": null,
      "outputs": []
    }
  ]
}